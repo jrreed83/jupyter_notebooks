{
 "cells": [
  {
   "cell_type": "markdown",
   "metadata": {},
   "source": [
    "# What is Modem?\n",
    "\n",
    "I would bet that you've heard of a modem.  But do you know what it is?  A modem is shorthand for *modulator-demodulation*.\n",
    "\n",
    "Modulation is all about transmitting information through a medium, or *channel*, in hopefully some optimal way.  Information is\n",
    "conveyed by modifying a known signal in a prescribed way that is understood by a receiver.  Here is the type of signal that we are interested in adding information to:  \n",
    "\n",
    "\\begin{equation}\n",
    "    x(t) = \\alpha (t) \\cos \\left(\\omega (t) t + \\phi (t) \\right). \n",
    "\\end{equation}\n",
    "\n",
    "It's just your standard sinusoidal signal with information-bearing parameters: amplitude $\\alpha(t)$, angular frequency $\\omega (t)$, and phase $\\phi(t)$.  \n"
   ]
  },
  {
   "cell_type": "markdown",
   "metadata": {},
   "source": [
    "## Binary Phase Shift Keying\n",
    "\n",
    "The standard derivation of PSK modulation follows from standard trigonometric identities.  \n",
    "\n",
    "\\begin{align}\n",
    "    x_{c}(t) &= \\cos (2\\pi f_{c} t + \\phi(t)) \\\\\n",
    "             &= \\cos (\\phi(t)) \\cos (2\\pi f_{c} t) - \\sin (\\phi(t)) \\sin (2\\pi f_{c} t) \\\\\n",
    "             &= I(t) \\cos (2\\pi f_{c} t) - Q(t) \\sin (2\\pi f_{c} t)\n",
    "\\end{align}\n",
    "\n",
    "The $I(t)$ and $Q(t)$ signals are commonly referred to as the inphase and quadrature signals, respectively.  In Binary Phase Shift Keying (BPSK), the $\\phi(t)$ can only take on the values $0$ and $\\pi$.  If you go through the math, this means that \n",
    "$Q(t) = 0$ for any $t$ and $I(t) = \\pm 1$.  \n",
    "\n",
    "At this point it's worth reiterating that we are trying to motivate digital communications and therefore $I(t)$ and $Q(t)$ are \n",
    "discrete signals.  That is we only have access to the two signals at a discrete set of points defined by an underlying sample time $t_{s}$.  "
   ]
  },
  {
   "cell_type": "code",
   "execution_count": null,
   "metadata": {
    "collapsed": true
   },
   "outputs": [],
   "source": []
  },
  {
   "cell_type": "markdown",
   "metadata": {},
   "source": [
    "## Differential Encoding"
   ]
  },
  {
   "cell_type": "markdown",
   "metadata": {},
   "source": [
    "Before we discuss the algorithmic details of differential encoding/decoding, it's important to motivate the reason for why it might be considered.\n",
    "\n",
    "### Motivation\n",
    "\n",
    "### The Algorithm\n",
    "At the bit-level, the algorithm is extremely simple.  Given a sequence of input bits, ${ x_{i} }$ the differentially encoded stream of bits is defined by the following recurrence relation:\n",
    "\n",
    "\\begin{equation}\n",
    "    y_{i} = y_{i-1} \\oplus x_{i}\n",
    "\\end{equation}\n",
    "\n",
    "The differential decoder runs in the receiver and recovers the original sequence from the encoded sequence as follows:\n",
    "\n",
    "\\begin{equation}\n",
    "    z_{i} = y_{i-1} \\oplus y_{i}\n",
    "\\end{equation}\n",
    "\n",
    "So, why does this work?  Let's prove to ourselves that differentially decoding a differentially encoded bit sequence returns\n",
    "the original sequence.  For each $i$,\n",
    "\n",
    "\\begin{align}\n",
    "    z_{i} &= y_{i-1} \\oplus y_{i} \\\\\n",
    "          &= y_{i-1} \\oplus \\left( y_{i-1} \\oplus x_{i} \\right) \\\\\n",
    "          &= x_{i} \\oplus \\left( y_{i-1} \\oplus y_{i-1} \\right) \\\\\n",
    "          &= x_{i} \\oplus 0 \\\\\n",
    "          &= x_{i}\n",
    "\\end{align}\n",
    "\n",
    "Of course a real communications channel will cause some of the $y_{i}$ bits to flip.  To see the channel's impact, let\n",
    "\n",
    "\\begin{equation}\n",
    "    \\bar{y}_{i} = y_{i} \\oplus 1.\n",
    "\\end{equation}\n",
    "\n",
    "and take a look at what happens when two consecutive bit errors occur:\n",
    "\n",
    "\\begin{align}\n",
    "    z_{i} &= \\bar{y}_{i-1} \\oplus \\bar{y}_{i} \\\\\n",
    "          &= \\left( y_{i-1} \\oplus 1 \\right) \\oplus \\left( y_{i} \\oplus 1 \\right) \\\\\n",
    "          &= \\left( y_{i-1} \\oplus y_{i} \\right) \\oplus \\left( 1 \\oplus 1 \\right) \\\\\n",
    "          &= x_{i} \\oplus 0 \\\\\n",
    "          &= x_{i}. \n",
    "\\end{align}\n",
    "\n",
    "In other words, the differential decoder fixes two consecutive bit errors.\n",
    "\n",
    "\n",
    "\n",
    "\n",
    "\n",
    "### Design Patterns\n",
    "There are a variety of ways to implement a differential encoder/decoder.  I'm really after designing my algorithms in efficient and elegant ways.  One thing I want to try to avoid is being tied to a particular type of input.  I don't want to implement separate differential encoders when the bits are coming in one at a time and when they are given to me all at once.  I want to capture the *essence* of the algorithm in a flexible and reusable module.  And if I can do this using functional programming techniques, then that's just icing on the cake.  \n"
   ]
  },
  {
   "cell_type": "markdown",
   "metadata": {},
   "source": [
    "The first thing I need is some way to maintain state during the course of the algorithm.  Here's one option."
   ]
  },
  {
   "cell_type": "code",
   "execution_count": 4,
   "metadata": {
    "collapsed": true
   },
   "outputs": [],
   "source": [
    "class Register(object):\n",
    "    def __init__(self,val=None):\n",
    "        self.val = val\n",
    "    def push(self, new_value):\n",
    "        self.val = new_value\n",
    "    def peek(self):\n",
    "        return self.val"
   ]
  },
  {
   "cell_type": "markdown",
   "metadata": {},
   "source": [
    "Okay, now let's try to capture the essence of a differential encoder.  We are going to use a concept from functional programming called *currying* to do it.  All this really means is taking advantage of the mathematical fact that a function of two arguments can be interpreted as a function of one argument that returns another function of one argument.  What does currying look like in Python? Let's look at a simple example before getting to the differential encoder.  Consider a simple `adder` function that takes two numbers and adds them together:"
   ]
  },
  {
   "cell_type": "code",
   "execution_count": 22,
   "metadata": {
    "collapsed": true
   },
   "outputs": [],
   "source": [
    "def adder(x,y):\n",
    "    return x + y"
   ]
  },
  {
   "cell_type": "markdown",
   "metadata": {},
   "source": [
    "Here's the curried version of this function.  "
   ]
  },
  {
   "cell_type": "code",
   "execution_count": 23,
   "metadata": {
    "collapsed": false
   },
   "outputs": [],
   "source": [
    "def adder_c(x):\n",
    "    def inner(y):\n",
    "        return x + y\n",
    "    return inner"
   ]
  },
  {
   "cell_type": "markdown",
   "metadata": {},
   "source": []
  },
  {
   "cell_type": "code",
   "execution_count": 16,
   "metadata": {
    "collapsed": true
   },
   "outputs": [],
   "source": [
    "def diff_enc():\n",
    "    state = Register(0)\n",
    "    def step(bit, signal=None):\n",
    "        if signal == 1:\n",
    "            state.push(0)\n",
    "            return bit\n",
    "        curr   = state.peek()\n",
    "        output = curr ^ bit\n",
    "        state.push(output)\n",
    "        return output\n",
    "    \n",
    "    return step"
   ]
  },
  {
   "cell_type": "code",
   "execution_count": 17,
   "metadata": {
    "collapsed": true
   },
   "outputs": [],
   "source": [
    "def diff_dec():\n",
    "    state = Register(0)\n",
    "    def step(bit, signal=None):\n",
    "        if signal == 1:\n",
    "            state.push(0)\n",
    "            return bit\n",
    "        curr   = state.peek()\n",
    "        output = curr ^ bit\n",
    "        state.push(bit)\n",
    "        return output\n",
    "    return step"
   ]
  },
  {
   "cell_type": "code",
   "execution_count": 18,
   "metadata": {
    "collapsed": false
   },
   "outputs": [],
   "source": [
    "enc = diff_enc()\n",
    "dec = diff_dec()"
   ]
  },
  {
   "cell_type": "code",
   "execution_count": 19,
   "metadata": {
    "collapsed": false
   },
   "outputs": [],
   "source": [
    "bits_in = list(map(enc,[0,1,1,0,0,1,1,0]))"
   ]
  },
  {
   "cell_type": "code",
   "execution_count": 20,
   "metadata": {
    "collapsed": false
   },
   "outputs": [
    {
     "data": {
      "text/plain": [
       "[0, 1, 1, 0, 0, 1, 1, 0]"
      ]
     },
     "execution_count": 20,
     "metadata": {},
     "output_type": "execute_result"
    }
   ],
   "source": [
    "bits_out = list(map(dec,bits_in))\n",
    "bits_out"
   ]
  },
  {
   "cell_type": "code",
   "execution_count": 21,
   "metadata": {
    "collapsed": false
   },
   "outputs": [
    {
     "ename": "NameError",
     "evalue": "name 'foo' is not defined",
     "output_type": "error",
     "traceback": [
      "\u001b[0;31m---------------------------------------------------------------------------\u001b[0m",
      "\u001b[0;31mNameError\u001b[0m                                 Traceback (most recent call last)",
      "\u001b[0;32m<ipython-input-21-624891b0d01a>\u001b[0m in \u001b[0;36m<module>\u001b[0;34m()\u001b[0m\n\u001b[0;32m----> 1\u001b[0;31m \u001b[0mfoo\u001b[0m\u001b[1;33m(\u001b[0m\u001b[1;33m)\u001b[0m\u001b[1;33m\u001b[0m\u001b[0m\n\u001b[0m",
      "\u001b[0;31mNameError\u001b[0m: name 'foo' is not defined"
     ]
    }
   ],
   "source": [
    "foo()"
   ]
  },
  {
   "cell_type": "code",
   "execution_count": 62,
   "metadata": {
    "collapsed": false
   },
   "outputs": [
    {
     "data": {
      "text/plain": [
       "[1, 0, 0, 1, 1, 0, 1, 1, 0, 0, 0]"
      ]
     },
     "execution_count": 62,
     "metadata": {},
     "output_type": "execute_result"
    }
   ],
   "source": [
    "list(map(foo,[1,1,0,1,0,1,1,0,1,0,0]))"
   ]
  },
  {
   "cell_type": "markdown",
   "metadata": {
    "collapsed": true
   },
   "source": [
    "```rust\n",
    "fn diff_enc() -> Box<FnMut(i8) -> i8> {\n",
    "    let mut reg: i8 = 0;\n",
    "    Box :: new (move |x:i8| {\n",
    "        reg ^= x;\n",
    "        reg\n",
    "    }\n",
    "}\n",
    "```"
   ]
  },
  {
   "cell_type": "markdown",
   "metadata": {},
   "source": [
    "```c++\n",
    "auto diff_encode = [] () {\n",
    "    auto reg = std::make_shared<int>(0);\n",
    "    auto step = [reg](int bit,int flip) {\n",
    "        int out = *reg ^ bit;\n",
    "        *reg = out ^ flip;\n",
    "        return out;\n",
    "    };\n",
    "    return step;\n",
    "};\n",
    "```"
   ]
  },
  {
   "cell_type": "code",
   "execution_count": null,
   "metadata": {
    "collapsed": true
   },
   "outputs": [],
   "source": []
  }
 ],
 "metadata": {
  "anaconda-cloud": {},
  "kernelspec": {
   "display_name": "Python [conda root]",
   "language": "python",
   "name": "conda-root-py"
  },
  "language_info": {
   "codemirror_mode": {
    "name": "ipython",
    "version": 3
   },
   "file_extension": ".py",
   "mimetype": "text/x-python",
   "name": "python",
   "nbconvert_exporter": "python",
   "pygments_lexer": "ipython3",
   "version": "3.5.2"
  }
 },
 "nbformat": 4,
 "nbformat_minor": 1
}
