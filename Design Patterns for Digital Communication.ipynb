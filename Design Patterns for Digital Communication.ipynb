{
 "cells": [
  {
   "cell_type": "markdown",
   "metadata": {},
   "source": [
    "# What's Special About Communications Algorithms"
   ]
  },
  {
   "cell_type": "markdown",
   "metadata": {},
   "source": []
  },
  {
   "cell_type": "code",
   "execution_count": null,
   "metadata": {
    "collapsed": true
   },
   "outputs": [],
   "source": [
    "   "
   ]
  },
  {
   "cell_type": "markdown",
   "metadata": {},
   "source": []
  },
  {
   "cell_type": "code",
   "execution_count": null,
   "metadata": {
    "collapsed": true
   },
   "outputs": [],
   "source": []
  },
  {
   "cell_type": "code",
   "execution_count": null,
   "metadata": {
    "collapsed": false
   },
   "outputs": [],
   "source": []
  },
  {
   "cell_type": "markdown",
   "metadata": {},
   "source": [
    "## Differential Encoding / Decoding"
   ]
  },
  {
   "cell_type": "markdown",
   "metadata": {},
   "source": [
    "Differential encoding is a technique commonly used in noncoherent modulation techniques.  At the bit-level, \n",
    "the algorithm is extremely simple.  Given a sequence of input bits, ${ x_{i} }$ the differentially\n",
    "encoded stream of bits is defined by the following recurrence relation:\n",
    "\n",
    "\\begin{equation}\n",
    "    y_{i} = y_{i-1} \\wedge x_{i}\n",
    "\\end{equation}\n",
    "\n",
    "The differential decoder runs in the receiver and recovers the original sequence from the encoded sequence as follows:\n",
    "\n",
    "\\begin{equation}\n",
    "    z_{i} = y_{i-1} \\wedge y_{i}\n",
    "\\end{equation}\n",
    "\n",
    "So, why does this work?  Let's go through the math:\n",
    "\n",
    "\\begin{align}\n",
    "    z_{i} &= y_{i-1} \\wedge y_{i} \\\\\n",
    "          &= y_{i-1} \\wedge \\left( y_{i-1} \\wedge x_{i} \\right) \\\\\n",
    "          &= x_{i} \\wedge \\left( y_{i-1} \\wedge y_{i-1} \\right) \\\\\n",
    "          &= x_{i}\n",
    "\\end{align}\n",
    "\n",
    "Since this equality holds for each $i$, it follows that the differentially decoding a differentially\n",
    "encoded bit sequence returns the original sequence.  It's also very important to notice that \n",
    "this holds true for when two consecutive bits are flipped.  This is straight forward to show, particularly when you realize that flipping a bit is equivalent to xor'ing it with a 1-bit."
   ]
  },
  {
   "cell_type": "code",
   "execution_count": 50,
   "metadata": {
    "collapsed": true
   },
   "outputs": [],
   "source": [
    "class Register(object):\n",
    "    def __init__(self,val=None):\n",
    "        self.val = val\n",
    "    def push(self, new_value):\n",
    "        self.val = new_value\n",
    "    def peek(self):\n",
    "        return self.val"
   ]
  },
  {
   "cell_type": "code",
   "execution_count": 52,
   "metadata": {
    "collapsed": true
   },
   "outputs": [],
   "source": [
    "def diff_enc():\n",
    "    state = Register(0)\n",
    "    def step(x=None):\n",
    "        output = None\n",
    "        if x == None:\n",
    "            state.push(0)\n",
    "        else:\n",
    "            curr   = state.peek()\n",
    "            output = curr ^ x\n",
    "            state.push(output)\n",
    "        return output\n",
    "    return step"
   ]
  },
  {
   "cell_type": "code",
   "execution_count": 53,
   "metadata": {
    "collapsed": true
   },
   "outputs": [],
   "source": [
    "def diff_dec():\n",
    "    state = Register(0)\n",
    "    def step(x=None):\n",
    "        output = None\n",
    "        if x == None:\n",
    "            state.push(0)\n",
    "        else:\n",
    "            curr   = state.peek()\n",
    "            output = curr ^ x\n",
    "            state.push(x)\n",
    "        return output\n",
    "    return step"
   ]
  },
  {
   "cell_type": "code",
   "execution_count": 54,
   "metadata": {
    "collapsed": true
   },
   "outputs": [],
   "source": [
    "foo = diff_enc()"
   ]
  },
  {
   "cell_type": "code",
   "execution_count": 59,
   "metadata": {
    "collapsed": false
   },
   "outputs": [
    {
     "data": {
      "text/plain": [
       "[1, 0, 0, 1, 1]"
      ]
     },
     "execution_count": 59,
     "metadata": {},
     "output_type": "execute_result"
    }
   ],
   "source": [
    "list(map(foo,[1,1,0,1,0]))"
   ]
  },
  {
   "cell_type": "code",
   "execution_count": 60,
   "metadata": {
    "collapsed": false
   },
   "outputs": [
    {
     "data": {
      "text/plain": [
       "[0, 1, 1, 0, 0, 0]"
      ]
     },
     "execution_count": 60,
     "metadata": {},
     "output_type": "execute_result"
    }
   ],
   "source": [
    "list(map(foo,[1,1,0,1,0,0]))"
   ]
  },
  {
   "cell_type": "code",
   "execution_count": 61,
   "metadata": {
    "collapsed": true
   },
   "outputs": [],
   "source": [
    "foo()"
   ]
  },
  {
   "cell_type": "code",
   "execution_count": 62,
   "metadata": {
    "collapsed": false
   },
   "outputs": [
    {
     "data": {
      "text/plain": [
       "[1, 0, 0, 1, 1, 0, 1, 1, 0, 0, 0]"
      ]
     },
     "execution_count": 62,
     "metadata": {},
     "output_type": "execute_result"
    }
   ],
   "source": [
    "list(map(foo,[1,1,0,1,0,1,1,0,1,0,0]))"
   ]
  },
  {
   "cell_type": "code",
   "execution_count": null,
   "metadata": {
    "collapsed": true
   },
   "outputs": [],
   "source": []
  }
 ],
 "metadata": {
  "anaconda-cloud": {},
  "kernelspec": {
   "display_name": "Python [conda root]",
   "language": "python",
   "name": "conda-root-py"
  },
  "language_info": {
   "codemirror_mode": {
    "name": "ipython",
    "version": 3
   },
   "file_extension": ".py",
   "mimetype": "text/x-python",
   "name": "python",
   "nbconvert_exporter": "python",
   "pygments_lexer": "ipython3",
   "version": "3.5.2"
  }
 },
 "nbformat": 4,
 "nbformat_minor": 1
}
