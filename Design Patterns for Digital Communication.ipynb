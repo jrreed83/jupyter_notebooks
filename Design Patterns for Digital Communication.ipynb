{
 "cells": [
  {
   "cell_type": "markdown",
   "metadata": {},
   "source": [
    "# What is Modem?\n",
    "\n",
    "I bet that you've heard the word modem before.  Isn't it that box that gives me internet access? But do you know what it is?  A modem is shorthand for *modulator-demodulation*.\n",
    "\n",
    "Modulation is all about transmitting information through a medium, or *channel*, in some specific way.  Information is\n",
    "conveyed by modifying a template signal in a prescribed way that is understood by a receiver.  Here's our template signal:\n",
    "\n",
    "\\begin{equation}\n",
    "    x(t) = A (t) \\cos \\left(\\omega (t) t + \\phi (t) \\right). \n",
    "\\end{equation}\n",
    "\n",
    "Information is injected into this template by varying the amplitude $A(t)$, angular frequency $\\omega (t)$, and or phase $\\phi(t)$.  In this post, we will introduce a family of modulation techniques centered on varying the phase, called *Phase Shift Keying* (PSK).\n"
   ]
  },
  {
   "cell_type": "markdown",
   "metadata": {},
   "source": [
    "## PSK Modulation\n",
    "\n",
    "The standard derivation of PSK modulation follows from standard trigonometric identities:  \n",
    "\n",
    "\\begin{align}\n",
    "    x_{p}(t) &= \\cos (2\\pi f_{c} t + \\phi(t)) \\\\\n",
    "             &= \\cos (\\phi(t)) \\cos (2\\pi f_{c} t) - \\sin (\\phi(t)) \\sin (2\\pi f_{c} t) \\\\\n",
    "             &= I(t) \\cos (2\\pi f_{c} t) - Q(t) \\sin (2\\pi f_{c} t) \n",
    "\\end{align}\n",
    "\n",
    "The $I(t)= \\cos (\\phi(t))$ and $Q(t)=\\sin (\\phi(t))$ are the inphase and quadrature waveforms.  If you take a step back, you can see an interesting phenomena: phase modulation is equivalent to amplitude modulation.\n",
    "\n",
    "It turns out to be very convenient to represent this last expression in terms of complex waveforms:\n",
    "\n",
    "\\begin{align}\n",
    "    x_{c} (t) = \\operatorname{Re} (z_{b} (t) \\exp(2\\pi i f_{c} t)) \n",
    "\\end{align}\n",
    "\n",
    "where $z_{b} (t)$ is the complex baseband waveform\n",
    "\n",
    "\\begin{equation}\n",
    "    z_{b} (t) = I(t) + i Q(t)=\\exp(i\\phi(t)).\n",
    "\\end{equation}\n",
    "\n",
    "The complex formulation is great because it seperates the baseband waveform, $z_{b}$, from the potentially much higher frequency carrier.  "
   ]
  },
  {
   "cell_type": "markdown",
   "metadata": {},
   "source": [
    "## PSK Demodulation\n"
   ]
  },
  {
   "cell_type": "markdown",
   "metadata": {
    "collapsed": true
   },
   "source": [
    "### Bits and Symbols\n",
    "\n",
    "The most fundamental unit of information is digital communication is the bit.  Different modulation schemes package up groups of bits into larger pieces of data called symbols.  Below are constellation diagrams for two very common and effective PSK schemes: BPSK and QPSK.  Constellation diagrams provide a compact way of describing the correspondance between bits, symbols, phases, and amplitude levels.    "
   ]
  },
  {
   "cell_type": "markdown",
   "metadata": {},
   "source": [
    "![title](images/constellation.png)"
   ]
  },
  {
   "cell_type": "markdown",
   "metadata": {},
   "source": [
    "The QPSK constellation is a little more interesting so I'll work on describing it in a little more detail.  Let's provide some context.  Suppose you want to transmit the bit sequence \n",
    "\n",
    "\\begin{equation}\n",
    "    b = \\left[ 0,1,1,0,1,0,0,1,0,1,0,0,1,1,1,0,1,0\\right]\n",
    "\\end{equation}\n",
    "\n",
    "through some unspecified channel.  In QPSK, each symbol is made from two consecutive bits.  Our bit sequence is therefore transformed into the following sequence of symbols:\n",
    "\n",
    "\\begin{equation}\n",
    "    s = \\left[ 01, 10, 10, 01, 01, 00, 11, 10, 10 \\right].\n",
    "\\end{equation}\n",
    "\n",
    "So far so good.  Now we need to consult the constellation diagram.  If we want to transmit the symbol $01$, then we should choose \n",
    "\n",
    "\\begin{equation}\n",
    "    \\phi(t) = \\frac{3\\pi}{4}, \\quad 0\\le t \\le T\n",
    "\\end{equation}\n",
    "\n",
    "which means that the baseband waveform for this time segment should be\n",
    "\n",
    "\\begin{equation}\n",
    "    z_{b} (t) = I(t) + i Q(t) \n",
    "              = \\cos(\\phi(t)) + \\sin(\\phi(t)) \n",
    "              = -\\frac{\\sqrt{2}}{2} + i\\frac{\\sqrt{2}}{2}.\n",
    "\\end{equation}\n",
    "\n",
    "The time variable $T$ represents the duration of each symbol.  Its reciprocal is commonly called the symbol rate, \n",
    "or baud rate.  Another parameter we need to start thinking about is the number of samples per symbol.  You get this by dividing the sample rate by the symbol rate.\n"
   ]
  },
  {
   "cell_type": "markdown",
   "metadata": {},
   "source": [
    "## Distributed Systems\n",
    "\n",
    "We're eventually going to start implementing some of these ideas in Python.  But first we need to think about the overall system design.  I naturally default to object oriented principles, that's probably not the right approach here.  I think it's more appropriate to view the system in terms of dataflow.  Before we get to an implementation of these ideas, let's explore tools from the Python language we can use to realize a true dataflow.\n"
   ]
  },
  {
   "cell_type": "markdown",
   "metadata": {},
   "source": [
    "![title](images/stream_qpsk.png)"
   ]
  },
  {
   "cell_type": "markdown",
   "metadata": {},
   "source": [
    "### Coroutines\n",
    "\n",
    "I'm not going to formally define coroutines here.  There are plenty of resources out there for that.  What I will say is that they are a very convenient tool for building stream-processing systems.  Stream processing is probably another thing that requires a formal definition, but I'm not going to go there.  I'm going to call something a stream processor, or transducer, when it converts one stream into another.  And a stream is just what it sounds like; a possibly infinite sequence of data.  Since we can't store an infinite sequence of anything in memory, a stream processor will operate on a per-element basis.\n",
    "\n",
    "For technical reasons, it's really handy to define a decorator for dealing with coroutines in Python.  Otherwise, we would need to *prime* it manually.  Here's a decorator that does the initialization magic.  The `func` function passed to `coroutine` is the actual coroutine.  "
   ]
  },
  {
   "cell_type": "code",
   "execution_count": 5,
   "metadata": {
    "collapsed": true
   },
   "outputs": [],
   "source": [
    "import numpy as np"
   ]
  },
  {
   "cell_type": "code",
   "execution_count": 7,
   "metadata": {
    "collapsed": true
   },
   "outputs": [],
   "source": [
    "def coroutine(func):\n",
    "    def wrapper(*args,**kwargs):\n",
    "        f = func(*args,**kwargs)\n",
    "        f.send(None)\n",
    "        return f\n",
    "    return wrapper"
   ]
  },
  {
   "cell_type": "markdown",
   "metadata": {},
   "source": [
    "Here's an example of a very simple stream processor you would find in any book on digital electronics, a D flip-flop.  I think it's fair to say that flip-flops are amongst the most fundamental and important components in FPGA design.  And they can get quite a bit more compplicated than this one.  A D flip flop can be used to store a bit for safe keeping, or until directed otherwise.  You can also add some delay to a bitstream by chaining a bunch of D flip flops together."
   ]
  },
  {
   "cell_type": "code",
   "execution_count": 8,
   "metadata": {
    "collapsed": true
   },
   "outputs": [],
   "source": [
    "@coroutine\n",
    "def flip_flop(outport):\n",
    "    reg = 0\n",
    "    while True:\n",
    "        new = (yield)\n",
    "        outport.send(reg)\n",
    "        reg = new"
   ]
  },
  {
   "cell_type": "markdown",
   "metadata": {},
   "source": [
    "This is a pretty straight forward function.  The `reg` is a 1 bit register that stores incoming data.  After this, the function runs forever, but pauses its execution at the `(yield)` statement until it receives data from another process.  This received data is bound to the `new` variable and the value stored in `reg` is sent to the coroutine indicated by `outport`.  Finally the freshly received data is bound to `reg`.  \n",
    "\n",
    "Whew!  That was a mouthful.  Let's test it out.  First, we need another coroutine that gets the output from the flip flop and prints it to the screen."
   ]
  },
  {
   "cell_type": "code",
   "execution_count": 9,
   "metadata": {
    "collapsed": true
   },
   "outputs": [],
   "source": [
    "@coroutine\n",
    "def view():\n",
    "    while True:\n",
    "        x = (yield)\n",
    "        print(x)"
   ]
  },
  {
   "cell_type": "markdown",
   "metadata": {},
   "source": [
    "Now we need to create each of these two coroutines and pump some bits through.  Notice that the output is indeed delayed by a single bit."
   ]
  },
  {
   "cell_type": "code",
   "execution_count": 10,
   "metadata": {
    "collapsed": false
   },
   "outputs": [
    {
     "name": "stdout",
     "output_type": "stream",
     "text": [
      "0\n",
      "1\n",
      "0\n",
      "1\n",
      "0\n",
      "1\n",
      "0\n",
      "0\n"
     ]
    }
   ],
   "source": [
    "v = view()\n",
    "d = flip_flop(v)\n",
    "\n",
    "for b in [1,0,1,0,1,0,0,1]:\n",
    "    d.send(b)"
   ]
  },
  {
   "cell_type": "markdown",
   "metadata": {},
   "source": [
    "That's progress.  Just for fun let's try to add a 3 element delay.  Notice how we define the chain in the reverse order; from the end to the start."
   ]
  },
  {
   "cell_type": "code",
   "execution_count": 11,
   "metadata": {
    "collapsed": false
   },
   "outputs": [
    {
     "name": "stdout",
     "output_type": "stream",
     "text": [
      "0\n",
      "0\n",
      "0\n",
      "1\n",
      "0\n",
      "1\n",
      "0\n",
      "1\n"
     ]
    }
   ],
   "source": [
    "v = view()\n",
    "d1 = flip_flop(v)\n",
    "d2 = flip_flop(d1)\n",
    "d3 = flip_flop(d2)\n",
    "\n",
    "for b in [1,0,1,0,1,0,0,1]:\n",
    "    d3.send(b)"
   ]
  },
  {
   "cell_type": "markdown",
   "metadata": {},
   "source": [
    "That's enough flip-flop stuff for now.  Let's start building some coroutines for building our QPSK modulator.  First, here's a coroutine for transforming a stream of points on the QPSK constellation.  Notice that we have two `yield` statements here, one for each bit we want to capture."
   ]
  },
  {
   "cell_type": "code",
   "execution_count": 25,
   "metadata": {
    "collapsed": true
   },
   "outputs": [],
   "source": [
    "@coroutine\n",
    "def qpsk_symbols(outport):\n",
    "    while True:\n",
    "        b1 = (yield)\n",
    "        b2 = (yield)\n",
    "        \n",
    "        symbol = b2 + (b1 << 1)\n",
    "        if symbol == 0:\n",
    "            z = np.exp(5*1j*np.pi/4)\n",
    "            outport.send(z)\n",
    "        elif symbol == 1:\n",
    "            z = np.exp(3*1j*np.pi/4)\n",
    "            outport.send(z)            \n",
    "        elif symbol == 2:\n",
    "            z = np.exp(7*1j*np.pi/4)\n",
    "            outport.send(z)\n",
    "        elif symbol == 3:\n",
    "            z = np.exp(np.pi*1j/4)\n",
    "            outport.send(z)"
   ]
  },
  {
   "cell_type": "markdown",
   "metadata": {},
   "source": [
    "Next, we need a coroutine that converts the complex symbol stream into a stream of complex-valued samples.  We do this by introducing a waveform generator called a matched filter.  The reason for the *matched* in its name comes from the fact that the receiver will need to have it for demodulation.\n",
    "\n",
    "As you can see in the `qpsk_matched_filter` coroutine below, each incoming symbol is being converted into a multi-sample waveform.  This is an example of a multirate signal processing block.  And it's actually not the first one we've seen.  The `qpsk_symbols` coroutine converts bit rate to symbol rate.\n",
    "\n",
    "For those of you familiar with functional programming principles this matched filter coroutine looks like the type of function\n",
    "you would pass to `flatmap` (or `bind` or `mapcat`). "
   ]
  },
  {
   "cell_type": "code",
   "execution_count": 27,
   "metadata": {
    "collapsed": false
   },
   "outputs": [],
   "source": [
    "@coroutine\n",
    "def qpsk_matched_filter(samples_per_symbol,outport):\n",
    "    while True:\n",
    "        x = (yield)\n",
    "        y = [x]*samples_per_symbol\n",
    "        for yi in y:\n",
    "            outport.send(yi)\n",
    "\n",
    "@coroutine\n",
    "def aggregate(coll):\n",
    "    while True:\n",
    "        x = (yield)\n",
    "        coll.append(x)"
   ]
  },
  {
   "cell_type": "markdown",
   "metadata": {},
   "source": [
    "Let's check our progress so far.  I'll do this by chaining some of the stream processors together and plotting the $I$ and $Q$ streams."
   ]
  },
  {
   "cell_type": "code",
   "execution_count": 28,
   "metadata": {
    "collapsed": false
   },
   "outputs": [],
   "source": [
    "result = []\n",
    "a  = aggregate(result)\n",
    "q1 = qpsk_matched_filter(16,a)\n",
    "q2 = qpsk_symbols(q1) \n",
    "\n",
    "bits = np.random.randint(0,2,100)\n",
    "for b in bits:\n",
    "    q2.send(b)\n",
    " "
   ]
  },
  {
   "cell_type": "markdown",
   "metadata": {},
   "source": [
    "The `result` array should now be full of complex-valued samples, let's check."
   ]
  },
  {
   "cell_type": "code",
   "execution_count": 29,
   "metadata": {
    "collapsed": false
   },
   "outputs": [
    {
     "data": {
      "image/png": "[encoded data removed]",
      "text/plain": [
       "<matplotlib.figure.Figure at 0x2032747d518>"
      ]
     },
     "metadata": {},
     "output_type": "display_data"
    }
   ],
   "source": [
    "import matplotlib.pyplot as plt\n",
    "\n",
    "x = [i for i in range(len(result))]\n",
    "plt.subplot(211)\n",
    "plt.plot(x,np.real(result))\n",
    "\n",
    "plt.subplot(212)\n",
    "plt.plot(x,np.imag(result))\n",
    "plt.show()"
   ]
  },
  {
   "cell_type": "markdown",
   "metadata": {},
   "source": [
    "For reasons we will discuss in more detail later, using these $I$ and $Q$ waveforms to transmit information is generally a bad idea.  The abrupt changes between positive and negative samples causes energy to spray into frequency bands that we have no need to encroach on.  It turns out there's an easy fix to this conundrum, and we will get into it ore deeply in a later post.\n",
    "\n",
    "Next, let's try to take this *baseband* signal and translate it up to a higher frequency.  As before, we need to implement a coroutine that specifies the action, sample by sample.  That's not too challenging.  To define an upconverter, you need to know the sample rate"
   ]
  },
  {
   "cell_type": "code",
   "execution_count": 91,
   "metadata": {
    "collapsed": true
   },
   "outputs": [],
   "source": []
  },
  {
   "cell_type": "markdown",
   "metadata": {},
   "source": [
    "\n",
    "```http://blog.thumbtack.net/python-coroutines```"
   ]
  },
  {
   "cell_type": "code",
   "execution_count": null,
   "metadata": {
    "collapsed": true
   },
   "outputs": [],
   "source": []
  }
 ],
 "metadata": {
  "anaconda-cloud": {},
  "kernelspec": {
   "display_name": "Python [conda root]",
   "language": "python",
   "name": "conda-root-py"
  },
  "language_info": {
   "codemirror_mode": {
    "name": "ipython",
    "version": 3
   },
   "file_extension": ".py",
   "mimetype": "text/x-python",
   "name": "python",
   "nbconvert_exporter": "python",
   "pygments_lexer": "ipython3",
   "version": "3.5.2"
  }
 },
 "nbformat": 4,
 "nbformat_minor": 1
}
