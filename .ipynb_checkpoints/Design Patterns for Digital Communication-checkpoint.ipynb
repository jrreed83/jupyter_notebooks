{
 "cells": [
  {
   "cell_type": "markdown",
   "metadata": {},
   "source": [
    "# What is Modem?\n",
    "\n",
    "I bet that you've heard the word modem before.  Isn't it that box that gives me internet access? But do you know what it is?  A modem is shorthand for *modulator-demodulation*.\n",
    "\n",
    "Modulation is all about transmitting information through a medium, or *channel*, in some specific way.  Information is\n",
    "conveyed by modifying a template signal in a prescribed way that is understood by a receiver.  Here's our template signal:\n",
    "\n",
    "\\begin{equation}\n",
    "    x(t) = A (t) \\cos \\left(\\omega (t) t + \\phi (t) \\right). \n",
    "\\end{equation}\n",
    "\n",
    "Information is injected into this template by varying the amplitude $A(t)$, angular frequency $\\omega (t)$, and or phase $\\phi(t)$.  In this post, we will introduce a family of modulation techniques centered on varying the phase, called *Phase Shift Keying* (PSK).\n"
   ]
  },
  {
   "cell_type": "markdown",
   "metadata": {},
   "source": [
    "## PSK Modulation\n",
    "\n",
    "The standard derivation of PSK modulation follows from standard trigonometric identities:  \n",
    "\n",
    "\\begin{align}\n",
    "    x_{p}(t) &= \\cos (2\\pi f_{c} t + \\phi(t)) \\\\\n",
    "             &= \\cos (\\phi(t)) \\cos (2\\pi f_{c} t) - \\sin (\\phi(t)) \\sin (2\\pi f_{c} t) \\\\\n",
    "             &= I(t) \\cos (2\\pi f_{c} t) - Q(t) \\sin (2\\pi f_{c} t) \n",
    "\\end{align}\n",
    "\n",
    "The $I(t)= \\cos (\\phi(t))$ and $Q(t)=\\sin (\\phi(t))$ are the inphase and quadrature waveforms.  Its worth pointing out here\n",
    "that our phase modulated signal is expressed in terms of amplitude modulation.\n",
    "\n",
    "It turns out to be very convenient to represent this last expression in terms of complex waveforms:\n",
    "\n",
    "\\begin{align}\n",
    "    x_{c} (t) = \\operatorname{Re} (z_{b} (t) \\exp(2\\pi i f_{c} t)) \n",
    "\\end{align}\n",
    "\n",
    "where $z_{b} (t)$ is the complex baseband waveform\n",
    "\n",
    "\\begin{equation}\n",
    "    z_{b} (t) = I(t) + i Q(t)=\\exp(i\\phi(t)).\n",
    "\\end{equation}\n",
    "\n",
    "The complex formulation is great because it seperates the baseband waveform, $z_{b}$, from the potentially much higher frequency carrier.  "
   ]
  },
  {
   "cell_type": "markdown",
   "metadata": {},
   "source": [
    "## PSK Demodulation\n"
   ]
  },
  {
   "cell_type": "markdown",
   "metadata": {
    "collapsed": true
   },
   "source": [
    "### Bits and Symbols\n",
    "\n",
    "A bit is probably the most fundamental unit of information in digital communications.  \n",
    "One of the most siginificant concepts in digital communications is a *symbol*.  Generally speaking, a symbol is the unit of information transmitted every second by a modulator.  This information may be represented on the bit-level, complex phase-level, and/or waveform level.  The correspondance between the bit and complex phase representations of symbols is visualized very effectively with a *constellation diagram*.  Below is the standard constellation for BPSK (left) and QPSK (right).  \n"
   ]
  },
  {
   "cell_type": "markdown",
   "metadata": {},
   "source": [
    "![title](images/constellation.png)"
   ]
  },
  {
   "cell_type": "markdown",
   "metadata": {},
   "source": [
    "Let's interpret these constellations.  Suppose you want to transmit the bit sequence $1,0,0,1,0,1$ through your channel.  If you choose to use BPSK, then the constellation diagram shows that this corresponds to the phase sequence $0,\\pi,\\pi,0,\\pi,0$, or equivalently $+1,-1,-1,+1,-1,+1$.  \n",
    "\n",
    "Similarly, if you use QPSK, the sequence of symbols is $10,01,01$ which corresponds to the phases \n",
    "$\\frac{7\\pi}{4}, \\frac{3\\pi}{4}, \\frac{3\\pi}{4}$ and the complex phasors \n",
    "\n",
    "\\begin{equation}\n",
    "    \\frac{\\sqrt{2}}{2} - i\\frac{\\sqrt{2}}{2}, \n",
    "    -\\frac{\\sqrt{2}}{2} + i\\frac{\\sqrt{2}}{2}, \n",
    "    -\\frac{\\sqrt{2}}{2} + i\\frac{\\sqrt{2}}{2}\n",
    "\\end{equation}"
   ]
  },
  {
   "cell_type": "markdown",
   "metadata": {},
   "source": []
  },
  {
   "cell_type": "markdown",
   "metadata": {},
   "source": [
    "## BPSK\n"
   ]
  },
  {
   "cell_type": "code",
   "execution_count": 16,
   "metadata": {
    "collapsed": true
   },
   "outputs": [],
   "source": [
    "import copy\n",
    "class Symbolizer(object):\n",
    "    def __init__(self,bits_per_symbol=1):\n",
    "        self.bits_per_symbol = bits_per_symbol\n",
    "        self.queue = [0] * bits_per_symbol\n",
    "        self.cnt = 0\n",
    "    def step(self,bit):\n",
    "        self.queue[self.cnt] = bit\n",
    "        self.cnt = (self.cnt + 1) % self.bits_per_symbol\n",
    "        if self.cnt == 0:\n",
    "            out = copy.deepcopy(self.queue)\n",
    "        else:\n",
    "            out = None        \n",
    "        return out\n",
    "          "
   ]
  },
  {
   "cell_type": "markdown",
   "metadata": {},
   "source": [
    "```rust\n",
    "struct Symbolizer {\n",
    "    bits_per_symbol:u8,\n",
    "    cnt:u8,\n",
    "    deque: VecDeque<u8>,\n",
    "}\n",
    "\n",
    "\n",
    "impl Symbolizer {\n",
    "    fn init_deque(len:u8) -> VecDeque<u8> {\n",
    "        let mut deque: VecDeque<u8> = VecDeque::new();\n",
    "        for i in 0..len {\n",
    "            deque.push_back(0);\n",
    "        }\n",
    "        deque\n",
    "    }\n",
    "    \n",
    "    fn new(bits_per_symbol:u8) -> Symbolizer {\n",
    "        Symbolizer {\n",
    "            bits_per_symbol: bits_per_symbol,\n",
    "            cnt: 0,\n",
    "            deque: Symbolizer::init_deque(bits_per_symbol)\n",
    "        }\n",
    "    }\n",
    "    \n",
    "    fn step(&mut self, bit: u8) -> Option<VecDeque<u8>> {\n",
    "        \n",
    "        self.deque.push_back(bit);\n",
    "        self.deque.pop_front();\n",
    "        self.cnt = (self.cnt + 1) % self.bits_per_symbol;\n",
    "        out = if (self.cnt == 0) {Some (self.deque.clone()) } else {None};\n",
    "        out\n",
    "    }\n",
    "}\n",
    "```"
   ]
  },
  {
   "cell_type": "code",
   "execution_count": 18,
   "metadata": {
    "collapsed": false
   },
   "outputs": [
    {
     "name": "stdout",
     "output_type": "stream",
     "text": [
      "None\n",
      "[1, 0]\n",
      "None\n",
      "[0, 0]\n"
     ]
    }
   ],
   "source": [
    "foo = Symbolizer(2)\n",
    "x = foo.step(1)\n",
    "y = foo.step(0)\n",
    "z = foo.step(0)\n",
    "w = foo.step(0)\n",
    "print(x)\n",
    "print(y)\n",
    "print(z)\n",
    "print(w)"
   ]
  },
  {
   "cell_type": "markdown",
   "metadata": {},
   "source": [
    "Before we discuss the algorithmic details of differential encoding/decoding, it's important to motivate the reason for why it might be considered.\n",
    "\n",
    "### Motivation\n",
    "\n",
    "### The Algorithm\n",
    "At the bit-level, the algorithm is extremely simple.  Given a sequence of input bits, ${ x_{i} }$ the differentially encoded stream of bits is defined by the following recurrence relation:\n",
    "\n",
    "\\begin{equation}\n",
    "    y_{i} = y_{i-1} \\oplus x_{i}\n",
    "\\end{equation}\n",
    "\n",
    "The differential decoder runs in the receiver and recovers the original sequence from the encoded sequence as follows:\n",
    "\n",
    "\\begin{equation}\n",
    "    z_{i} = y_{i-1} \\oplus y_{i}\n",
    "\\end{equation}\n",
    "\n",
    "So, why does this work?  Let's prove to ourselves that differentially decoding a differentially encoded bit sequence returns\n",
    "the original sequence.  For each $i$,\n",
    "\n",
    "\\begin{align}\n",
    "    z_{i} &= y_{i-1} \\oplus y_{i} \\\\\n",
    "          &= y_{i-1} \\oplus \\left( y_{i-1} \\oplus x_{i} \\right) \\\\\n",
    "          &= x_{i} \\oplus \\left( y_{i-1} \\oplus y_{i-1} \\right) \\\\\n",
    "          &= x_{i} \\oplus 0 \\\\\n",
    "          &= x_{i}\n",
    "\\end{align}\n",
    "\n",
    "Of course a real communications channel will cause some of the $y_{i}$ bits to flip.  To see the channel's impact, let\n",
    "\n",
    "\\begin{equation}\n",
    "    \\bar{y}_{i} = y_{i} \\oplus 1.\n",
    "\\end{equation}\n",
    "\n",
    "and take a look at what happens when two consecutive bit errors occur:\n",
    "\n",
    "\\begin{align}\n",
    "    z_{i} &= \\bar{y}_{i-1} \\oplus \\bar{y}_{i} \\\\\n",
    "          &= \\left( y_{i-1} \\oplus 1 \\right) \\oplus \\left( y_{i} \\oplus 1 \\right) \\\\\n",
    "          &= \\left( y_{i-1} \\oplus y_{i} \\right) \\oplus \\left( 1 \\oplus 1 \\right) \\\\\n",
    "          &= x_{i} \\oplus 0 \\\\\n",
    "          &= x_{i}. \n",
    "\\end{align}\n",
    "\n",
    "In other words, the differential decoder fixes two consecutive bit errors.\n",
    "\n",
    "\n",
    "\n",
    "\n",
    "\n",
    "### Design Patterns\n",
    "There are a variety of ways to implement a differential encoder/decoder.  I'm really after designing my algorithms in efficient and elegant ways.  One thing I want to try to avoid is being tied to a particular type of input.  I don't want to implement separate differential encoders when the bits are coming in one at a time and when they are given to me all at once.  I want to capture the *essence* of the algorithm in a flexible and reusable module.  And if I can do this using functional programming techniques, then that's just icing on the cake.  \n"
   ]
  },
  {
   "cell_type": "markdown",
   "metadata": {},
   "source": [
    "The first thing I need is some way to maintain state during the course of the algorithm.  Here's one option."
   ]
  },
  {
   "cell_type": "code",
   "execution_count": 4,
   "metadata": {
    "collapsed": true
   },
   "outputs": [],
   "source": [
    "class Register(object):\n",
    "    def __init__(self,val=None):\n",
    "        self.val = val\n",
    "    def push(self, new_value):\n",
    "        self.val = new_value\n",
    "    def peek(self):\n",
    "        return self.val"
   ]
  },
  {
   "cell_type": "markdown",
   "metadata": {},
   "source": [
    "Okay, now let's try to capture the essence of a differential encoder.  We are going to use a concept from functional programming called *currying* to do it.  All this really means is taking advantage of the mathematical fact that a function of two arguments can be interpreted as a function of one argument that returns another function of one argument.  What does currying look like in Python? Let's look at a simple example before getting to the differential encoder.  Consider a simple `adder` function that takes two numbers and adds them together:"
   ]
  },
  {
   "cell_type": "code",
   "execution_count": 22,
   "metadata": {
    "collapsed": true
   },
   "outputs": [],
   "source": [
    "def adder(x,y):\n",
    "    return x + y"
   ]
  },
  {
   "cell_type": "markdown",
   "metadata": {},
   "source": [
    "Here's the curried version of this function.  "
   ]
  },
  {
   "cell_type": "code",
   "execution_count": 23,
   "metadata": {
    "collapsed": false
   },
   "outputs": [],
   "source": [
    "def adder_c(x):\n",
    "    def inner(y):\n",
    "        return x + y\n",
    "    return inner"
   ]
  },
  {
   "cell_type": "markdown",
   "metadata": {},
   "source": []
  },
  {
   "cell_type": "code",
   "execution_count": 16,
   "metadata": {
    "collapsed": true
   },
   "outputs": [],
   "source": [
    "def diff_enc():\n",
    "    state = Register(0)\n",
    "    def step(bit, signal=None):\n",
    "        if signal == 1:\n",
    "            state.push(0)\n",
    "            return bit\n",
    "        curr   = state.peek()\n",
    "        output = curr ^ bit\n",
    "        state.push(output)\n",
    "        return output\n",
    "    \n",
    "    return step"
   ]
  },
  {
   "cell_type": "code",
   "execution_count": 17,
   "metadata": {
    "collapsed": true
   },
   "outputs": [],
   "source": [
    "def diff_dec():\n",
    "    state = Register(0)\n",
    "    def step(bit, signal=None):\n",
    "        if signal == 1:\n",
    "            state.push(0)\n",
    "            return bit\n",
    "        curr   = state.peek()\n",
    "        output = curr ^ bit\n",
    "        state.push(bit)\n",
    "        return output\n",
    "    return step"
   ]
  },
  {
   "cell_type": "code",
   "execution_count": 18,
   "metadata": {
    "collapsed": false
   },
   "outputs": [],
   "source": [
    "enc = diff_enc()\n",
    "dec = diff_dec()"
   ]
  },
  {
   "cell_type": "code",
   "execution_count": 19,
   "metadata": {
    "collapsed": false
   },
   "outputs": [],
   "source": [
    "bits_in = list(map(enc,[0,1,1,0,0,1,1,0]))"
   ]
  },
  {
   "cell_type": "code",
   "execution_count": 20,
   "metadata": {
    "collapsed": false
   },
   "outputs": [
    {
     "data": {
      "text/plain": [
       "[0, 1, 1, 0, 0, 1, 1, 0]"
      ]
     },
     "execution_count": 20,
     "metadata": {},
     "output_type": "execute_result"
    }
   ],
   "source": [
    "bits_out = list(map(dec,bits_in))\n",
    "bits_out"
   ]
  },
  {
   "cell_type": "code",
   "execution_count": 21,
   "metadata": {
    "collapsed": false
   },
   "outputs": [
    {
     "ename": "NameError",
     "evalue": "name 'foo' is not defined",
     "output_type": "error",
     "traceback": [
      "\u001b[0;31m---------------------------------------------------------------------------\u001b[0m",
      "\u001b[0;31mNameError\u001b[0m                                 Traceback (most recent call last)",
      "\u001b[0;32m<ipython-input-21-624891b0d01a>\u001b[0m in \u001b[0;36m<module>\u001b[0;34m()\u001b[0m\n\u001b[0;32m----> 1\u001b[0;31m \u001b[0mfoo\u001b[0m\u001b[1;33m(\u001b[0m\u001b[1;33m)\u001b[0m\u001b[1;33m\u001b[0m\u001b[0m\n\u001b[0m",
      "\u001b[0;31mNameError\u001b[0m: name 'foo' is not defined"
     ]
    }
   ],
   "source": [
    "foo()"
   ]
  },
  {
   "cell_type": "code",
   "execution_count": 62,
   "metadata": {
    "collapsed": false
   },
   "outputs": [
    {
     "data": {
      "text/plain": [
       "[1, 0, 0, 1, 1, 0, 1, 1, 0, 0, 0]"
      ]
     },
     "execution_count": 62,
     "metadata": {},
     "output_type": "execute_result"
    }
   ],
   "source": [
    "list(map(foo,[1,1,0,1,0,1,1,0,1,0,0]))"
   ]
  },
  {
   "cell_type": "markdown",
   "metadata": {
    "collapsed": true
   },
   "source": [
    "```rust\n",
    "fn diff_enc() -> Box<FnMut(i8) -> i8> {\n",
    "    let mut reg: i8 = 0;\n",
    "    Box :: new (move |x:i8| {\n",
    "        reg ^= x;\n",
    "        reg\n",
    "    }\n",
    "}\n",
    "```"
   ]
  },
  {
   "cell_type": "markdown",
   "metadata": {},
   "source": [
    "```c++\n",
    "auto diff_encode = [] () {\n",
    "    auto reg = std::make_shared<int>(0);\n",
    "    auto step = [reg](int bit,int flip) {\n",
    "        int out = *reg ^ bit;\n",
    "        *reg = out ^ flip;\n",
    "        return out;\n",
    "    };\n",
    "    return step;\n",
    "};\n",
    "```"
   ]
  },
  {
   "cell_type": "markdown",
   "metadata": {
    "collapsed": true
   },
   "source": [
    "```c++\n",
    "enum class Bit: uint8_t { L = 0, H = 1 };\n",
    "```"
   ]
  },
  {
   "cell_type": "markdown",
   "metadata": {
    "collapsed": true
   },
   "source": [
    "\\begin{cases} \n",
    "      0 & x\\leq 0 \\\\\n",
    "      \\frac{100-x}{100} & 0\\leq x\\leq 100 \\\\\n",
    "      0 & 100\\leq x \n",
    "\\end{cases}\n"
   ]
  },
  {
   "cell_type": "code",
   "execution_count": null,
   "metadata": {
    "collapsed": true
   },
   "outputs": [],
   "source": []
  }
 ],
 "metadata": {
  "anaconda-cloud": {},
  "kernelspec": {
   "display_name": "Python [conda root]",
   "language": "python",
   "name": "conda-root-py"
  },
  "language_info": {
   "codemirror_mode": {
    "name": "ipython",
    "version": 3
   },
   "file_extension": ".py",
   "mimetype": "text/x-python",
   "name": "python",
   "nbconvert_exporter": "python",
   "pygments_lexer": "ipython3",
   "version": "3.5.2"
  }
 },
 "nbformat": 4,
 "nbformat_minor": 1
}
