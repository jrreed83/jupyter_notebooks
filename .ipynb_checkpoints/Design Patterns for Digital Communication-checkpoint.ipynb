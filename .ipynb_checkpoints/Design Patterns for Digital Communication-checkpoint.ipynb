{
 "cells": [
  {
   "cell_type": "markdown",
   "metadata": {},
   "source": [
    "# What is Modem?\n",
    "\n",
    "I bet that you've heard the word modem before.  Isn't it that box that gives me internet access? But do you know what it is?  A modem is shorthand for *modulator-demodulation*.\n",
    "\n",
    "Modulation is all about transmitting information through a medium, or *channel*, in some specific way.  Information is\n",
    "conveyed by modifying a template signal in a prescribed way that is understood by a receiver.  Here's our template signal:\n",
    "\n",
    "\\begin{equation}\n",
    "    x(t) = A (t) \\cos \\left(\\omega (t) t + \\phi (t) \\right). \n",
    "\\end{equation}\n",
    "\n",
    "Information is injected into this template by varying the amplitude $A(t)$, angular frequency $\\omega (t)$, and or phase $\\phi(t)$.  In this post, we will introduce a family of modulation techniques centered on varying the phase, called *Phase Shift Keying* (PSK).\n"
   ]
  },
  {
   "cell_type": "markdown",
   "metadata": {},
   "source": [
    "## PSK Modulation\n",
    "\n",
    "The standard derivation of PSK modulation follows from standard trigonometric identities:  \n",
    "\n",
    "\\begin{align}\n",
    "    x_{p}(t) &= \\cos (2\\pi f_{c} t + \\phi(t)) \\\\\n",
    "             &= \\cos (\\phi(t)) \\cos (2\\pi f_{c} t) - \\sin (\\phi(t)) \\sin (2\\pi f_{c} t) \\\\\n",
    "             &= I(t) \\cos (2\\pi f_{c} t) - Q(t) \\sin (2\\pi f_{c} t) \n",
    "\\end{align}\n",
    "\n",
    "The $I(t)= \\cos (\\phi(t))$ and $Q(t)=\\sin (\\phi(t))$ are the inphase and quadrature waveforms.  If you take a step back, you can see an interesting phenomena: phase modulation is equivalent to amplitude modulation.\n",
    "\n",
    "It turns out to be very convenient to represent this last expression in terms of complex waveforms:\n",
    "\n",
    "\\begin{align}\n",
    "    x_{c} (t) = \\operatorname{Re} (z_{b} (t) \\exp(2\\pi i f_{c} t)) \n",
    "\\end{align}\n",
    "\n",
    "where $z_{b} (t)$ is the complex baseband waveform\n",
    "\n",
    "\\begin{equation}\n",
    "    z_{b} (t) = I(t) + i Q(t)=\\exp(i\\phi(t)).\n",
    "\\end{equation}\n",
    "\n",
    "The complex formulation is great because it seperates the baseband waveform, $z_{b}$, from the potentially much higher frequency carrier.  "
   ]
  },
  {
   "cell_type": "markdown",
   "metadata": {},
   "source": [
    "## PSK Demodulation\n"
   ]
  },
  {
   "cell_type": "markdown",
   "metadata": {
    "collapsed": true
   },
   "source": [
    "### Bits and Symbols\n",
    "\n",
    "The most fundamental unit of information is digital communication is the bit.  Different modulation schemes package up groups of bits into larger pieces of data called symbols.  Below are constellation diagrams for two very common and effective PSK schemes: BPSK and QPSK.  Constellation diagrams provide a compact way of describing the correspondance between bits, symbols, phases, and amplitude levels.    "
   ]
  },
  {
   "cell_type": "markdown",
   "metadata": {},
   "source": [
    "![title](images/constellation.png)"
   ]
  },
  {
   "cell_type": "markdown",
   "metadata": {},
   "source": [
    "The QPSK constellation is a little more interesting so I'll work on describing it in a little more detail.  Let's provide some context.  Suppose you want to transmit the bit sequence \n",
    "\n",
    "\\begin{equation}\n",
    "    b = \\left[ 0,1,1,0,1,0,0,1,0,1,0,0,1,1,1,0,1,0\\right]\n",
    "\\end{equation}\n",
    "\n",
    "through some unspecified channel.  In QPSK, each symbol is made from two consecutive bits.  Our bit sequence is therefore transformed into the following sequence of symbols:\n",
    "\n",
    "\\begin{equation}\n",
    "    s = \\left[ 01, 10, 10, 01, 01, 00, 11, 10, 10 \\right].\n",
    "\\end{equation}\n",
    "\n",
    "So far so good.  Now we need to consult the constellation diagram.  If we want to transmit the symbol $01$, then we should choose \n",
    "\n",
    "\\begin{equation}\n",
    "    \\phi(t) = \\frac{3\\pi}{4}, \\quad 0\\le t \\le T\n",
    "\\end{equation}\n",
    "\n",
    "which means that the baseband waveform for this time segment should be\n",
    "\n",
    "\\begin{equation}\n",
    "    z_{b} (t) = I(t) + i Q(t) \n",
    "              = \\cos(\\phi(t)) + \\sin(\\phi(t)) \n",
    "              = -\\frac{\\sqrt{2}}{2} + i\\frac{\\sqrt{2}}{2}.\n",
    "\\end{equation}\n",
    "\n",
    "The time variable $T$ represents the duration of each symbol.  Its reciprocal is commonly called the symbol rate, \n",
    "or baud rate.  Another parameter we need to start thinking about is the number of samples per symbol.  You get this by dividing the sample rate by the symbol rate.\n"
   ]
  },
  {
   "cell_type": "markdown",
   "metadata": {},
   "source": [
    "## Let's Go Reactive\n",
    "\n",
    "We're eventually going to start implementing some of these ideas in Python.  But first we need to think about the overall system design.  I naturally default to object oriented principles, that's probably not the right approach here.  I think it's more appropriate to view the system in terms of dataflow.  Let's look at the QPSK modulator a little more closely.  We start with a bitstream.  We then take pairs of bits to build our stream of symbols.  Later on, we'll add to this chain of stream processing blocks.\n"
   ]
  },
  {
   "cell_type": "markdown",
   "metadata": {},
   "source": [
    "![title](images/stream_qpsk.png)"
   ]
  },
  {
   "cell_type": "markdown",
   "metadata": {},
   "source": [
    "### Dataflow for Modulator\n",
    "\n",
    "Like a lot of people these days, I'm a pretty big fan of functional programming principles.  I think these techniques work pretty well in the communication domain.  Okay, enough talk, let's implement some of these stream processors.  First let's write a little routine that groups pairs of bits together in preparation of building our symbol streams.  Here it is:"
   ]
  },
  {
   "cell_type": "code",
   "execution_count": 29,
   "metadata": {
    "collapsed": true
   },
   "outputs": [],
   "source": [
    "def qpsk_window():\n",
    "    state = [0,0]\n",
    "    idx = [0]\n",
    "    def inner(bit):\n",
    "        state[idx[0]] = bit\n",
    "        idx[0] = (idx[0] + 1) % 2\n",
    "        if idx[0] == 0:\n",
    "            return state.copy()\n",
    "        else:\n",
    "            None     \n",
    "    return inner"
   ]
  },
  {
   "cell_type": "markdown",
   "metadata": {},
   "source": [
    "This may look a little strange and I should say that we could implement similar functionality in an object oriented way.  Let's go through it.  When we call `qpsk_window()`, `state` and `idx` are initialized.  Then we declare an inner function that really performs the essence of what we want to do.  "
   ]
  },
  {
   "cell_type": "code",
   "execution_count": 44,
   "metadata": {
    "collapsed": true
   },
   "outputs": [],
   "source": [
    "def qpsk_level(state):\n",
    "    symbol = 0\n",
    "    if state == [1,1]:\n",
    "        symbol = np.exp(1j*np.pi/4)\n",
    "    elif state == [0,1]:\n",
    "        symbol = np.exp(1j*3*np.pi/4)\n",
    "    elif state == [1,0]:\n",
    "        symbol = np.exp(1j*5*np.pi/4)\n",
    "    elif state == [0,0]:\n",
    "        symbol = np.exp(1j*7*np.pi/4)\n",
    "    return symbol"
   ]
  },
  {
   "cell_type": "code",
   "execution_count": 52,
   "metadata": {
    "collapsed": true
   },
   "outputs": [],
   "source": [
    "def matched_filter(n):\n",
    "    def inner(level):\n",
    "        return np.ones(n)*level\n",
    "    return inner"
   ]
  },
  {
   "cell_type": "code",
   "execution_count": 55,
   "metadata": {
    "collapsed": false
   },
   "outputs": [
    {
     "name": "stdout",
     "output_type": "stream",
     "text": [
      "[-0.70710678-0.70710678j -0.70710678-0.70710678j -0.70710678-0.70710678j\n",
      " -0.70710678-0.70710678j]\n",
      "[ 0.70710678+0.70710678j  0.70710678+0.70710678j  0.70710678+0.70710678j\n",
      "  0.70710678+0.70710678j]\n"
     ]
    }
   ],
   "source": [
    "import numpy as np\n",
    "\n",
    "f1 = qpsk_window()\n",
    "\n",
    "def transduce(fun,dst):\n",
    "    while True:\n",
    "        # Wait for data\n",
    "        in_data = (yield)\n",
    "        # Apply transducer\n",
    "        out_data = fun(in_data)\n",
    "        # Forward data on\n",
    "        if out_data is not None:\n",
    "            dst.send(out_data)\n",
    "    \n",
    "\n",
    "def writer():\n",
    "    while True:\n",
    "        result = (yield)\n",
    "        print(result)\n",
    "w = writer()\n",
    "next(w)    \n",
    "\n",
    "x2 = transduce(matched_filter(4),w)\n",
    "next(x2)\n",
    "\n",
    "x1 = transduce(qpsk_level,x2)        \n",
    "next(x1)\n",
    "\n",
    "x0 = transduce(qpsk_window(),x1)\n",
    "next(x0)\n",
    "\n",
    "\n",
    "x0.send(1)\n",
    "x0.send(0)\n",
    "x0.send(1)\n",
    "x0.send(1)"
   ]
  },
  {
   "cell_type": "code",
   "execution_count": 46,
   "metadata": {
    "collapsed": false
   },
   "outputs": [
    {
     "name": "stdout",
     "output_type": "stream",
     "text": [
      "[1, 2, 3]\n",
      "[7, 2, 3]\n"
     ]
    }
   ],
   "source": [
    "a = [1,2,3]\n",
    "b = a.copy()\n",
    "\n",
    "b[0] = 7\n",
    "print(a)\n",
    "print(b)"
   ]
  },
  {
   "cell_type": "code",
   "execution_count": 186,
   "metadata": {
    "collapsed": false
   },
   "outputs": [],
   "source": [
    "class QpskModulator(object):    \n",
    "    constellation = {\"11\":np.exp(1j*1.0*np.pi/4.0),\n",
    "                     \"01\":np.exp(1j*3.0*np.pi/4.0),\n",
    "                     \"00\":np.exp(1j*5.0*np.pi/4.0),\n",
    "                     \"10\":np.exp(1j*7.0*np.pi/4.0)}\n",
    "    bits_per_symbol = 2\n",
    "    @staticmethod\n",
    "    def level(state):\n",
    "        return QpskModulator.constellation[str(state[0]) + str(state[1])]   \n",
    "    def __init__(self,sample_rate = 1000.0, baud_rate = 50, carrier = 100.0):\n",
    "        self.sample_rate = sample_rate\n",
    "        self.baud_rate = baud_rate\n",
    "        self.carrier = carrier\n",
    "        self.level = 1.0\n",
    "    def baseband(self,bit_seq):\n",
    "        samples_per_symbol = int(self.sample_rate / self.baud_rate)\n",
    "        lvl = self.level \n",
    "        cnt = 0\n",
    "        state = [0] * QpskModulator.bits_per_symbol\n",
    "        samples = []\n",
    "        phi = 0.0\n",
    "        for bit in bit_seq:\n",
    "            state[cnt] = bit\n",
    "            cnt = (cnt + 1) % QpskModulator.bits_per_symbol          \n",
    "            if cnt == 0:\n",
    "                sample = QpskModulator.level(state)\n",
    "                baseband = list(np.ones(samples_per_symbol) * sample)\n",
    "                samples += baseband \n",
    "        return samples\n",
    "    def passband(self,samples_in):\n",
    "        ratio = self.carrier / self.sample_rate           \n",
    "        samples_out = []\n",
    "        phi = 0.0\n",
    "        ratio\n",
    "        for si in samples_in:\n",
    "            samples_out += [si * np.exp(2.0*1j*np.pi*phi)]\n",
    "            phi += ratio    \n",
    "        return samples_out"
   ]
  },
  {
   "cell_type": "code",
   "execution_count": 205,
   "metadata": {
    "collapsed": false
   },
   "outputs": [],
   "source": [
    "import collections as coll \n",
    "\n",
    "class QpskDemodulator(object):    \n",
    "    constellation = {\"11\":np.exp(1j*1.0*np.pi/4.0),\n",
    "                     \"01\":np.exp(1j*3.0*np.pi/4.0),\n",
    "                     \"00\":np.exp(1j*5.0*np.pi/4.0),\n",
    "                     \"10\":np.exp(1j*7.0*np.pi/4.0)}\n",
    "    bits_per_symbol = 2\n",
    "    @staticmethod\n",
    "    def level(state):\n",
    "        return QpskModulator.constellation[str(state[0]) + str(state[1])]   \n",
    "    def __init__(self,sample_rate = 1000.0, baud_rate = 50, carrier = 100.0):\n",
    "        self.sample_rate = sample_rate\n",
    "        self.baud_rate = baud_rate\n",
    "        self.carrier = carrier\n",
    "        self.level = 1.0\n",
    "    def matched_filter(self,samples_in):\n",
    "        samples_per_symbol = int(self.sample_rate / self.baud_rate)\n",
    "        state = coll.deque([0.0]*samples_per_symbol)\n",
    "        samples_out = []\n",
    "        for si in samples_in:\n",
    "            so = np.mean(state)\n",
    "            _ = state.popleft()\n",
    "            state.append(si)\n",
    "            samples_out += [so]\n",
    "        return samples_out        \n",
    "    def baseband(self,samples_in):\n",
    "        samples_per_symbol = int(self.sample_rate / self.baud_rate)\n",
    "        state = [0.0]*samples_per_symbol\n",
    "        cnt = 0\n",
    "        samples_out = []\n",
    "        for si in samples_in:\n",
    "            state[cnt] = si\n",
    "            cnt = (cnt + 1) % samples_per_symbol\n",
    "            if cnt == 0:\n",
    "                samples_out += [np.mean(state)] \n",
    "        return samples_out\n"
   ]
  },
  {
   "cell_type": "code",
   "execution_count": 211,
   "metadata": {
    "collapsed": false
   },
   "outputs": [
    {
     "data": {
      "image/png": "[encoded data removed]",
      "text/plain": [
       "<matplotlib.figure.Figure at 0x2d99d12c4a8>"
      ]
     },
     "metadata": {},
     "output_type": "display_data"
    }
   ],
   "source": [
    "mod = QpskModulator()\n",
    "z = mod.baseband([0,0,1,1,0,0,1,1])\n",
    "\n",
    "demod = QpskDemodulator()\n",
    "b = demod.matched_filter(z)\n",
    "\n",
    "plt.subplot(211)\n",
    "plt.plot(np.real(b))\n",
    "plt.subplot(212)\n",
    "plt.plot(np.imag(b))\n",
    "plt.show()"
   ]
  },
  {
   "cell_type": "code",
   "execution_count": 202,
   "metadata": {
    "collapsed": false
   },
   "outputs": [
    {
     "data": {
      "text/plain": [
       "1.0"
      ]
     },
     "execution_count": 202,
     "metadata": {},
     "output_type": "execute_result"
    }
   ],
   "source": [
    "state = coll.deque([1.0]*10)\n",
    "np.mean(state)"
   ]
  },
  {
   "cell_type": "markdown",
   "metadata": {},
   "source": [
    "```rust\n",
    "use std::collections::VecDeque;\n",
    "```\n",
    "\n",
    "```rust\n",
    "struct Symbolizer {\n",
    "    bits_per_symbol:u8,\n",
    "    cnt:u8,\n",
    "    state: VecDeque<u8>,\n",
    "}\n",
    "\n",
    "\n",
    "impl Symbolizer {\n",
    "    fn init_state(len:u8) -> VecDeque<u8> {\n",
    "        let mut state: VecDeque<u8> = VecDeque::new();\n",
    "        for i in 0..len {\n",
    "            state.push_back(0);\n",
    "        }\n",
    "        state\n",
    "    }\n",
    "    \n",
    "    fn new(bits_per_symbol:u8) -> Symbolizer {\n",
    "        Symbolizer {\n",
    "            bits_per_symbol: bits_per_symbol,\n",
    "            cnt: 0,\n",
    "            state: Symbolizer::init_state(bits_per_symbol)\n",
    "        }\n",
    "    }\n",
    "    \n",
    "    fn step(&mut self, bit: u8) -> Option<VecDeque<u8>> {\n",
    "        self.state.push_back(bit);\n",
    "        let head = self.state.pop_front();\n",
    "        self.cnt = (self.cnt + 1) % self.bits_per_symbol;\n",
    "        out = if (self.cnt == 0) {Some (self.state.clone()) } else {None};\n",
    "        out\n",
    "    }\n",
    "}\n",
    "```"
   ]
  },
  {
   "cell_type": "code",
   "execution_count": 28,
   "metadata": {
    "collapsed": false
   },
   "outputs": [
    {
     "name": "stdout",
     "output_type": "stream",
     "text": [
      "None\n",
      "deque([1, 0])\n",
      "None\n",
      "deque([0, 0])\n"
     ]
    }
   ],
   "source": [
    "foo = Symbolizer(2)\n",
    "x = foo.step(1)\n",
    "y = foo.step(0)\n",
    "z = foo.step(0)\n",
    "w = foo.step(0)\n",
    "print(x)\n",
    "print(y)\n",
    "print(z)\n",
    "print(w)"
   ]
  },
  {
   "cell_type": "markdown",
   "metadata": {},
   "source": [
    "Before we discuss the algorithmic details of differential encoding/decoding, it's important to motivate the reason for why it might be considered.\n",
    "\n",
    "### Motivation\n",
    "\n",
    "### The Algorithm\n",
    "At the bit-level, the algorithm is extremely simple.  Given a sequence of input bits, ${ x_{i} }$ the differentially encoded stream of bits is defined by the following recurrence relation:\n",
    "\n",
    "\\begin{equation}\n",
    "    y_{i} = y_{i-1} \\oplus x_{i}\n",
    "\\end{equation}\n",
    "\n",
    "The differential decoder runs in the receiver and recovers the original sequence from the encoded sequence as follows:\n",
    "\n",
    "\\begin{equation}\n",
    "    z_{i} = y_{i-1} \\oplus y_{i}\n",
    "\\end{equation}\n",
    "\n",
    "So, why does this work?  Let's prove to ourselves that differentially decoding a differentially encoded bit sequence returns\n",
    "the original sequence.  For each $i$,\n",
    "\n",
    "\\begin{align}\n",
    "    z_{i} &= y_{i-1} \\oplus y_{i} \\\\\n",
    "          &= y_{i-1} \\oplus \\left( y_{i-1} \\oplus x_{i} \\right) \\\\\n",
    "          &= x_{i} \\oplus \\left( y_{i-1} \\oplus y_{i-1} \\right) \\\\\n",
    "          &= x_{i} \\oplus 0 \\\\\n",
    "          &= x_{i}\n",
    "\\end{align}\n",
    "\n",
    "Of course a real communications channel will cause some of the $y_{i}$ bits to flip.  To see the channel's impact, let\n",
    "\n",
    "\\begin{equation}\n",
    "    \\bar{y}_{i} = y_{i} \\oplus 1.\n",
    "\\end{equation}\n",
    "\n",
    "and take a look at what happens when two consecutive bit errors occur:\n",
    "\n",
    "\\begin{align}\n",
    "    z_{i} &= \\bar{y}_{i-1} \\oplus \\bar{y}_{i} \\\\\n",
    "          &= \\left( y_{i-1} \\oplus 1 \\right) \\oplus \\left( y_{i} \\oplus 1 \\right) \\\\\n",
    "          &= \\left( y_{i-1} \\oplus y_{i} \\right) \\oplus \\left( 1 \\oplus 1 \\right) \\\\\n",
    "          &= x_{i} \\oplus 0 \\\\\n",
    "          &= x_{i}. \n",
    "\\end{align}\n",
    "\n",
    "In other words, the differential decoder fixes two consecutive bit errors.\n",
    "\n",
    "\n",
    "\n",
    "\n",
    "\n",
    "### Design Patterns\n",
    "There are a variety of ways to implement a differential encoder/decoder.  I'm really after designing my algorithms in efficient and elegant ways.  One thing I want to try to avoid is being tied to a particular type of input.  I don't want to implement separate differential encoders when the bits are coming in one at a time and when they are given to me all at once.  I want to capture the *essence* of the algorithm in a flexible and reusable module.  And if I can do this using functional programming techniques, then that's just icing on the cake.  \n"
   ]
  },
  {
   "cell_type": "markdown",
   "metadata": {},
   "source": [
    "The first thing I need is some way to maintain state during the course of the algorithm.  Here's one option."
   ]
  },
  {
   "cell_type": "code",
   "execution_count": 4,
   "metadata": {
    "collapsed": true
   },
   "outputs": [],
   "source": [
    "class Register(object):\n",
    "    def __init__(self,val=None):\n",
    "        self.val = val\n",
    "    def push(self, new_value):\n",
    "        self.val = new_value\n",
    "    def peek(self):\n",
    "        return self.val"
   ]
  },
  {
   "cell_type": "markdown",
   "metadata": {},
   "source": [
    "Okay, now let's try to capture the essence of a differential encoder.  We are going to use a concept from functional programming called *currying* to do it.  All this really means is taking advantage of the mathematical fact that a function of two arguments can be interpreted as a function of one argument that returns another function of one argument.  What does currying look like in Python? Let's look at a simple example before getting to the differential encoder.  Consider a simple `adder` function that takes two numbers and adds them together:"
   ]
  },
  {
   "cell_type": "code",
   "execution_count": 22,
   "metadata": {
    "collapsed": true
   },
   "outputs": [],
   "source": [
    "def adder(x,y):\n",
    "    return x + y"
   ]
  },
  {
   "cell_type": "markdown",
   "metadata": {},
   "source": [
    "Here's the curried version of this function.  "
   ]
  },
  {
   "cell_type": "code",
   "execution_count": 23,
   "metadata": {
    "collapsed": false
   },
   "outputs": [],
   "source": [
    "def adder_c(x):\n",
    "    def inner(y):\n",
    "        return x + y\n",
    "    return inner"
   ]
  },
  {
   "cell_type": "markdown",
   "metadata": {},
   "source": []
  },
  {
   "cell_type": "code",
   "execution_count": 16,
   "metadata": {
    "collapsed": true
   },
   "outputs": [],
   "source": [
    "def diff_enc():\n",
    "    state = Register(0)\n",
    "    def step(bit, signal=None):\n",
    "        if signal == 1:\n",
    "            state.push(0)\n",
    "            return bit\n",
    "        curr   = state.peek()\n",
    "        output = curr ^ bit\n",
    "        state.push(output)\n",
    "        return output\n",
    "    \n",
    "    return step"
   ]
  },
  {
   "cell_type": "code",
   "execution_count": 17,
   "metadata": {
    "collapsed": true
   },
   "outputs": [],
   "source": [
    "def diff_dec():\n",
    "    state = Register(0)\n",
    "    def step(bit, signal=None):\n",
    "        if signal == 1:\n",
    "            state.push(0)\n",
    "            return bit\n",
    "        curr   = state.peek()\n",
    "        output = curr ^ bit\n",
    "        state.push(bit)\n",
    "        return output\n",
    "    return step"
   ]
  },
  {
   "cell_type": "code",
   "execution_count": 18,
   "metadata": {
    "collapsed": false
   },
   "outputs": [],
   "source": [
    "enc = diff_enc()\n",
    "dec = diff_dec()"
   ]
  },
  {
   "cell_type": "code",
   "execution_count": 19,
   "metadata": {
    "collapsed": false
   },
   "outputs": [],
   "source": [
    "bits_in = list(map(enc,[0,1,1,0,0,1,1,0]))"
   ]
  },
  {
   "cell_type": "code",
   "execution_count": 20,
   "metadata": {
    "collapsed": false
   },
   "outputs": [
    {
     "data": {
      "text/plain": [
       "[0, 1, 1, 0, 0, 1, 1, 0]"
      ]
     },
     "execution_count": 20,
     "metadata": {},
     "output_type": "execute_result"
    }
   ],
   "source": [
    "bits_out = list(map(dec,bits_in))\n",
    "bits_out"
   ]
  },
  {
   "cell_type": "code",
   "execution_count": 21,
   "metadata": {
    "collapsed": false
   },
   "outputs": [
    {
     "ename": "NameError",
     "evalue": "name 'foo' is not defined",
     "output_type": "error",
     "traceback": [
      "\u001b[0;31m---------------------------------------------------------------------------\u001b[0m",
      "\u001b[0;31mNameError\u001b[0m                                 Traceback (most recent call last)",
      "\u001b[0;32m<ipython-input-21-624891b0d01a>\u001b[0m in \u001b[0;36m<module>\u001b[0;34m()\u001b[0m\n\u001b[0;32m----> 1\u001b[0;31m \u001b[0mfoo\u001b[0m\u001b[1;33m(\u001b[0m\u001b[1;33m)\u001b[0m\u001b[1;33m\u001b[0m\u001b[0m\n\u001b[0m",
      "\u001b[0;31mNameError\u001b[0m: name 'foo' is not defined"
     ]
    }
   ],
   "source": [
    "foo()"
   ]
  },
  {
   "cell_type": "code",
   "execution_count": 62,
   "metadata": {
    "collapsed": false
   },
   "outputs": [
    {
     "data": {
      "text/plain": [
       "[1, 0, 0, 1, 1, 0, 1, 1, 0, 0, 0]"
      ]
     },
     "execution_count": 62,
     "metadata": {},
     "output_type": "execute_result"
    }
   ],
   "source": [
    "list(map(foo,[1,1,0,1,0,1,1,0,1,0,0]))"
   ]
  },
  {
   "cell_type": "markdown",
   "metadata": {
    "collapsed": true
   },
   "source": [
    "```rust\n",
    "fn diff_enc() -> Box<FnMut(i8) -> i8> {\n",
    "    let mut reg: i8 = 0;\n",
    "    Box :: new (move |x:i8| {\n",
    "        reg ^= x;\n",
    "        reg\n",
    "    }\n",
    "}\n",
    "```"
   ]
  },
  {
   "cell_type": "markdown",
   "metadata": {},
   "source": [
    "```c++\n",
    "auto diff_encode = [] () {\n",
    "    auto reg = std::make_shared<int>(0);\n",
    "    auto step = [reg](int bit,int flip) {\n",
    "        int out = *reg ^ bit;\n",
    "        *reg = out ^ flip;\n",
    "        return out;\n",
    "    };\n",
    "    return step;\n",
    "};\n",
    "```"
   ]
  },
  {
   "cell_type": "markdown",
   "metadata": {
    "collapsed": true
   },
   "source": [
    "```c++\n",
    "enum class Bit: uint8_t { L = 0, H = 1 };\n",
    "```"
   ]
  },
  {
   "cell_type": "markdown",
   "metadata": {
    "collapsed": true
   },
   "source": [
    "\\begin{cases} \n",
    "      0 & x\\leq 0 \\\\\n",
    "      \\frac{100-x}{100} & 0\\leq x\\leq 100 \\\\\n",
    "      0 & 100\\leq x \n",
    "\\end{cases}\n"
   ]
  },
  {
   "cell_type": "code",
   "execution_count": null,
   "metadata": {
    "collapsed": true
   },
   "outputs": [],
   "source": []
  }
 ],
 "metadata": {
  "anaconda-cloud": {},
  "kernelspec": {
   "display_name": "Python [conda root]",
   "language": "python",
   "name": "conda-root-py"
  },
  "language_info": {
   "codemirror_mode": {
    "name": "ipython",
    "version": 3
   },
   "file_extension": ".py",
   "mimetype": "text/x-python",
   "name": "python",
   "nbconvert_exporter": "python",
   "pygments_lexer": "ipython3",
   "version": "3.5.2"
  }
 },
 "nbformat": 4,
 "nbformat_minor": 1
}
