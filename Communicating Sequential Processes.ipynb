{
 "cells": [
  {
   "cell_type": "markdown",
   "metadata": {},
   "source": [
    "# Introduction\n",
    "\n",
    "In my last post, I expressed a preference for working with channels as first class citizens.  Do you remember that flip-flop implementation?"
   ]
  },
  {
   "cell_type": "markdown",
   "metadata": {},
   "source": [
    "```python\n",
    "@coroutine\n",
    "def flip_flop(outport):\n",
    "    reg = 0\n",
    "    while True:\n",
    "        new = (yield)\n",
    "        outport.send(reg)\n",
    "        reg = new\n",
    "```"
   ]
  },
  {
   "cell_type": "markdown",
   "metadata": {},
   "source": [
    "This worked fine, but I would rather have a name for the thing that `new` is coming from.  Here's the type of function I'd like to work with."
   ]
  },
  {
   "cell_type": "code",
   "execution_count": 4,
   "metadata": {
    "collapsed": true
   },
   "outputs": [],
   "source": [
    "def flip_flop(inport,outport):\n",
    "    reg = 0\n",
    "    while True:\n",
    "        new = inport.take()\n",
    "        outport.put(reg)\n",
    "        reg = new\n"
   ]
  },
  {
   "cell_type": "markdown",
   "metadata": {},
   "source": [
    "At a highlevel, I would want to test and interact with this flip-flop using code like this."
   ]
  },
  {
   "cell_type": "markdown",
   "metadata": {},
   "source": [
    "```python\n",
    "inport = Channel()\n",
    "outport = Channel()\n",
    "\n",
    "go(flip_flop(inport,outport))\n",
    "\n",
    "inport.put(1)\n",
    "outport.take()\n",
    "```"
   ]
  },
  {
   "cell_type": "markdown",
   "metadata": {},
   "source": [
    "The `go` function is similar to what you would see in the Go, Clojure, and Rust programming languages.  For the time being, I'm going to focus on Go because of its simplicity.  Not only is the code simple to read, but concurrency is really one of it's selling points."
   ]
  },
  {
   "cell_type": "markdown",
   "metadata": {},
   "source": [
    "```go\n",
    "package main\n",
    "\n",
    "import (\n",
    "\t\"fmt\"\n",
    ")\n",
    "\n",
    "func flip_flop(port0 chan uint8, port1 chan uint8) {\n",
    "\tvar state uint8 = 0\n",
    "\tfor {\n",
    "\t\tin := <-port0\n",
    "\t\tport1 <- state\n",
    "\t\tstate = in\n",
    "\t}\n",
    "}\n",
    "\n",
    "func main() {\n",
    "\tport0 := make(chan uint8)\n",
    "\tport1 := make(chan uint8)\n",
    "\n",
    "\tgo flip_flop(port0, port1)\n",
    "\n",
    "\tinbits := []uint8{15, 10}\n",
    "\n",
    "\tvar out_bit uint8\n",
    "\tvar i uint8\n",
    "\t\n",
    "\tfor _, x := range inbits {\n",
    "\t\tfor i = 0; i < 8; i++ {\n",
    "\t\t\tin_bit := (x>> i) & 0x01\n",
    "\t\t\tport0 <- in_bit\n",
    "\t\t\tout_bit = <-port1\n",
    "\t\t\tfmt.Print(out_bit)\n",
    "\t\t}\n",
    "\t}\n",
    "}\n",
    "\n",
    "```"
   ]
  },
  {
   "cell_type": "code",
   "execution_count": null,
   "metadata": {
    "collapsed": true
   },
   "outputs": [],
   "source": []
  }
 ],
 "metadata": {
  "anaconda-cloud": {},
  "kernelspec": {
   "display_name": "Python [conda root]",
   "language": "python",
   "name": "conda-root-py"
  },
  "language_info": {
   "codemirror_mode": {
    "name": "ipython",
    "version": 3
   },
   "file_extension": ".py",
   "mimetype": "text/x-python",
   "name": "python",
   "nbconvert_exporter": "python",
   "pygments_lexer": "ipython3",
   "version": "3.5.2"
  }
 },
 "nbformat": 4,
 "nbformat_minor": 1
}
