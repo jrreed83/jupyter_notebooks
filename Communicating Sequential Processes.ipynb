{
 "cells": [
  {
   "cell_type": "markdown",
   "metadata": {},
   "source": [
    "# Introduction\n",
    "\n",
    "In my last post, I expressed a preference for working with channels as first class citizens.  Do you remember that flip-flop implementation?"
   ]
  },
  {
   "cell_type": "markdown",
   "metadata": {},
   "source": [
    "```python\n",
    "@coroutine\n",
    "def flip_flop(outport):\n",
    "    reg = 0\n",
    "    while True:\n",
    "        new = (yield)\n",
    "        outport.send(reg)\n",
    "        reg = new\n",
    "```"
   ]
  },
  {
   "cell_type": "markdown",
   "metadata": {},
   "source": [
    "This worked fine, but I would rather have a name for the thing that `new` is coming from.  Here's the type of function I'd like to work with."
   ]
  },
  {
   "cell_type": "code",
   "execution_count": 4,
   "metadata": {
    "collapsed": true
   },
   "outputs": [],
   "source": [
    "def flip_flop(inport,outport):\n",
    "    reg = 0\n",
    "    while True:\n",
    "        new = inport.take()\n",
    "        outport.put(reg)\n",
    "        reg = new\n"
   ]
  },
  {
   "cell_type": "markdown",
   "metadata": {},
   "source": [
    "At a highlevel, I would want to test and interact with this flip-flop using code like this."
   ]
  },
  {
   "cell_type": "markdown",
   "metadata": {},
   "source": [
    "```python\n",
    "inport = Channel()\n",
    "outport = Channel()\n",
    "\n",
    "go(flip_flop(inport,outport))\n",
    "\n",
    "inport.put(1)\n",
    "outport.take()\n",
    "```"
   ]
  },
  {
   "cell_type": "markdown",
   "metadata": {},
   "source": [
    "The `go` function is similar to what you would see in the go and clojure programming languages.  It just starts some light weight thread.  "
   ]
  },
  {
   "cell_type": "markdown",
   "metadata": {},
   "source": []
  },
  {
   "cell_type": "code",
   "execution_count": null,
   "metadata": {
    "collapsed": true
   },
   "outputs": [],
   "source": []
  }
 ],
 "metadata": {
  "anaconda-cloud": {},
  "kernelspec": {
   "display_name": "Python [conda root]",
   "language": "python",
   "name": "conda-root-py"
  },
  "language_info": {
   "codemirror_mode": {
    "name": "ipython",
    "version": 3
   },
   "file_extension": ".py",
   "mimetype": "text/x-python",
   "name": "python",
   "nbconvert_exporter": "python",
   "pygments_lexer": "ipython3",
   "version": "3.5.2"
  }
 },
 "nbformat": 4,
 "nbformat_minor": 1
}
